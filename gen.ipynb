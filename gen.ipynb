{
 "cells": [
  {
   "cell_type": "code",
   "execution_count": 12,
   "metadata": {},
   "outputs": [],
   "source": [
    "import copy\n",
    "import math\n",
    "import random\n",
    "import numpy as np\n",
    "import matplotlib.pyplot as plt\n",
    "from sklearn.metrics import mean_squared_error as mse\n",
    "\n",
    "class node:\n",
    "    def __init__(self,value,parent = None):\n",
    "        self.value = value\n",
    "        self.parent = parent\n",
    "        self.leftChild = None\n",
    "        self.rightChild = None   #if our value = sin or cos => we just have left child\n",
    "        self.MSE = None\n",
    "        # self.Probability = None\n",
    "\n",
    "    def __str__(self):\n",
    "        return 'value: ' + str(self.value) +'\\tparent:' +str(self.parent)"
   ]
  },
  {
   "cell_type": "code",
   "execution_count": 13,
   "metadata": {},
   "outputs": [],
   "source": [
    "def functiontest(input):\n",
    "    result=[]\n",
    "    for i in input:\n",
    "        result.append(i**3+i**2)\n",
    "    return result\n",
    "\n",
    "input_values =[1,2,3,4,5,6,7,8,9]\n",
    "output_values = functiontest(input_values)\n",
    "\n",
    "size_of_population = 10\n",
    "size_of_next_generation = 30\n",
    "number_of_generation = 3\n"
   ]
  },
  {
   "cell_type": "code",
   "execution_count": 32,
   "metadata": {},
   "outputs": [
    {
     "name": "stdout",
     "output_type": "stream",
     "text": [
      "math.cos(x)\n",
      "(x/7)\n",
      "(x*8)\n",
      "(x/8)\n",
      "math.sin(x)\n",
      "(x/2)\n",
      "(x+9)\n",
      "math.sin(x)\n",
      "(x/10)\n",
      "(x-8)\n"
     ]
    }
   ],
   "source": [
    "def CreatePopulation(size):\n",
    "    population=[]\n",
    "    operators = ['+','-','*','/','**','math.sin','math.cos']\n",
    "    numbers = [1,2,3,4,5,6,7,8,9,10]\n",
    "    # variables = [x,y,z,.....]\n",
    "\n",
    "    for i in range(0,size):\n",
    "        operator = random.choice(operators)\n",
    "        number = random.choice(numbers)\n",
    "        # variable = random.choice(variables)\n",
    "        mainNode = node(operator)\n",
    "        mainNode.leftChild = node('x',mainNode)  # we can change it with node(variable)\n",
    "        if operator!='sin' or operator!='cos':\n",
    "            mainNode.rightChild = node(number,mainNode)\n",
    "        population.append(mainNode)\n",
    "    \n",
    "    return population\n",
    "# x = CreatePopulation(10)\n",
    "# for tree in x :\n",
    "#     print(printTree(tree))"
   ]
  },
  {
   "cell_type": "code",
   "execution_count": 55,
   "metadata": {},
   "outputs": [
    {
     "name": "stdout",
     "output_type": "stream",
     "text": [
      "(x+6)\n",
      "math.cos(x)\n",
      "math.cos(x)\n",
      "math.cos(x)\n",
      "(x**4)\n",
      "math.sin(x)\n",
      "math.sin(x)\n",
      "math.sin(x)\n",
      "(x*10)\n",
      "(x**6)\n"
     ]
    }
   ],
   "source": [
    "def printTree(node):\n",
    "    if node.leftChild== None and node.rightChild == None:\n",
    "        return node.value \n",
    "\n",
    "    else :\n",
    "        LeftSum = printTree(node.leftChild) \n",
    "        if ['+','-','*','/','^','**'].__contains__(node.value):\n",
    "            RightSum = printTree(node.rightChild)\n",
    "            return '(' + str(LeftSum)+str(node.value)+str(RightSum)+')'\n",
    "        else :\n",
    "            return str(node.value)+'(' + str(LeftSum) + ')'\n",
    "        \n",
    "first_population = CreatePopulation(10)\n",
    "for func in first_population:\n",
    "    print(printTree(func))"
   ]
  },
  {
   "cell_type": "code",
   "execution_count": 16,
   "metadata": {},
   "outputs": [
    {
     "name": "stdout",
     "output_type": "stream",
     "text": [
      "value: +\tparent:None\n",
      "value: x\tparent:value: +\tparent:None\n",
      "value: 5\tparent:value: +\tparent:None\n"
     ]
    }
   ],
   "source": [
    "def all_nodes(T):\n",
    "    mylist = []\n",
    "    mylist.append(T)\n",
    "    if T.leftChild != None:\n",
    "        mylist.extend(all_nodes(T.leftChild))\n",
    "    if T.rightChild != None:\n",
    "        mylist.extend(all_nodes(T.rightChild))\n",
    "    return mylist\n",
    "\n",
    "all=all_nodes(first_population[0])\n",
    "for i in all:\n",
    "    print(i)"
   ]
  },
  {
   "cell_type": "code",
   "execution_count": 17,
   "metadata": {},
   "outputs": [
    {
     "name": "stdout",
     "output_type": "stream",
     "text": [
      "(x+5)\n",
      "(x*5)\n",
      "((x*5)+5)\n",
      "x\n"
     ]
    }
   ],
   "source": [
    "def combineTrees(T1,T2):\n",
    "    NewTree1 = copy.deepcopy(T1)\n",
    "    NewTree2 = copy.deepcopy(T2)\n",
    "\n",
    "    T1_nodes_list = all_nodes(NewTree1)\n",
    "    T2_nodes_list = all_nodes(NewTree2)\n",
    "\n",
    "    selected_t1_node = random.choice(T1_nodes_list)\n",
    "    selected_t2_node = random.choice(T2_nodes_list)\n",
    "    \n",
    "    selected_t1_node.value , selected_t2_node.value = selected_t2_node.value , selected_t1_node.value\n",
    "    selected_t1_node.rightChild , selected_t2_node.rightChild = selected_t2_node.rightChild , selected_t1_node.rightChild\n",
    "    selected_t1_node.leftChild , selected_t2_node.leftChild = selected_t2_node.leftChild , selected_t1_node.leftChild\n",
    "\n",
    "    return NewTree1,NewTree2\n",
    "\n",
    "\n",
    "NT1,NT2= combineTrees(first_population[0],first_population[1])\n",
    "print(printTree(first_population[0]))\n",
    "print(printTree(first_population[1]))\n",
    "print(printTree(NT1))\n",
    "print(printTree(NT2))"
   ]
  },
  {
   "cell_type": "code",
   "execution_count": 34,
   "metadata": {},
   "outputs": [
    {
     "name": "stdout",
     "output_type": "stream",
     "text": [
      "(x*6)\n",
      "[6, 12, 18, 24, 30]\n"
     ]
    }
   ],
   "source": [
    "def find_tree_outputs(tree,input_values):\n",
    "    my_output= []\n",
    "    myfunc = str(printTree(tree))\n",
    "    \n",
    "    for input in input_values:\n",
    "        if not myfunc.__contains__('x'):\n",
    "            my_output.append(eval(myfunc))\n",
    "        else:\n",
    "            result = myfunc.replace('x',str(input))\n",
    "            my_output.append(eval(result))\n",
    "    return my_output\n",
    "    \n",
    "res =find_tree_outputs(first_population[0],[1,2,3,4,5])\n",
    "print(printTree(first_population[0]))\n",
    "print(res)"
   ]
  },
  {
   "cell_type": "code",
   "execution_count": 37,
   "metadata": {},
   "outputs": [
    {
     "name": "stdout",
     "output_type": "stream",
     "text": [
      "(x*6)\n",
      "MSE:  379.1666666666667\n",
      "(x*1)\n",
      "MSE:  0.0\n",
      "(x*3)\n",
      "MSE:  60.666666666666664\n",
      "(x-5)\n",
      "MSE:  25.0\n",
      "math.sin(x)\n",
      "MSE:  17.825827641610115\n",
      "math.cos(x)\n",
      "MSE:  15.211542083178452\n",
      "(x+4)\n",
      "MSE:  16.0\n",
      "(x/10)\n",
      "MSE:  12.285000000000002\n",
      "math.sin(x)\n",
      "MSE:  17.825827641610115\n",
      "(x-9)\n",
      "MSE:  81.0\n"
     ]
    }
   ],
   "source": [
    "def find_tree_estimate(all_trees,our_input,our_output):\n",
    "    for tree in all_trees:\n",
    "        tree_output = find_tree_outputs(tree,our_input)\n",
    "        tree.MSE = mse(our_output,tree_output)\n",
    "\n",
    "\n",
    "find_tree_estimate(first_population,[1,2,3,4,5,6],[1,2,3,4,5,6])\n",
    "for tree in first_population:\n",
    "    print(printTree(tree))\n",
    "    print(\"MSE: \",tree.MSE)\n"
   ]
  },
  {
   "cell_type": "code",
   "execution_count": 45,
   "metadata": {},
   "outputs": [
    {
     "name": "stdout",
     "output_type": "stream",
     "text": [
      "(math.sin(x)+4)\n",
      "x\n",
      "(6*6)\n",
      "math.cos(x)\n",
      "((x-9)*1)\n",
      "x\n",
      "math.sin(x)\n",
      "(x/10)\n",
      "(x-10)\n",
      "math.sin(x)\n",
      "x\n",
      "((x*3)+4)\n",
      "math.sin(10)\n",
      "(x/x)\n",
      "(10/10)\n",
      "math.sin(x)\n",
      "(x/10)\n",
      "(x-9)\n",
      "x\n",
      "math.sin((x*3))\n"
     ]
    }
   ],
   "source": [
    "def createNextGeneration(population,size_of_next_generation):\n",
    "    my_list =[]\n",
    "\n",
    "    for i in range(size_of_next_generation//2):\n",
    "        randomChoises = random.sample(population,2)\n",
    "        newT1,newT2 = combineTrees(randomChoises[0],randomChoises[1])\n",
    "        my_list.append(newT1)\n",
    "        my_list.append(newT2)\n",
    "    find_tree_estimate(my_list,input_values,output_values)\n",
    "    return my_list\n",
    "\n",
    "x = createNextGeneration(first_population,20)\n",
    "for i in x:\n",
    "    print(printTree(i))"
   ]
  },
  {
   "cell_type": "code",
   "execution_count": 56,
   "metadata": {},
   "outputs": [
    {
     "name": "stdout",
     "output_type": "stream",
     "text": [
      "(x+6)\n",
      "(x+10)\n"
     ]
    }
   ],
   "source": [
    "def Jahesh(tree):\n",
    "    node_list = all_nodes(tree)\n",
    "    chosen_node = random.choice(node_list)\n",
    "\n",
    "    operators = ['+','-','*','/','**','math.sin','math.cos']\n",
    "    numbers = [1,2,3,4,5,6,7,8,9,10,'x']\n",
    "    if operators.__contains__(chosen_node.value):\n",
    "        if chosen_node.value=='math.sin' or chosen_node.value=='math.cos':\n",
    "            chosen_node.value = random.choice(['math.sin','math.cos'])\n",
    "        else:\n",
    "            chosen_node.value = random.choice(['+','-','*','/','**'])\n",
    "    else :\n",
    "        chosen_node.value = random.choice(numbers)\n",
    "    return tree\n",
    "\n",
    "print(printTree(first_population[0]))\n",
    "print(printTree(Jahesh(first_population[0])))"
   ]
  },
  {
   "cell_type": "code",
   "execution_count": 27,
   "metadata": {},
   "outputs": [
    {
     "name": "stdout",
     "output_type": "stream",
     "text": [
      "(x-10)    MSE : 138573.0\n",
      "(x-10)    MSE : 138573.0\n",
      "(x-10)    MSE : 138573.0\n",
      "((x/6)-10)    MSE : 138573.0\n",
      "(x-x)    MSE : 138573.0\n",
      "1    MSE : 138573.0\n",
      "(x-x)    MSE : 138573.0\n",
      "2    MSE : 138573.0\n",
      "(1/6)    MSE : 138573.0\n",
      "x    MSE : 138573.0\n"
     ]
    }
   ],
   "source": [
    "\n",
    "\n",
    "population = CreatePopulation(size_of_population)\n",
    "for i in range(number_of_generation):\n",
    "    next_gen = createNextGeneration(population,size_of_next_generation)\n",
    "    population.extend(next_gen)\n",
    "    find_tree_estimate(population,input_values,output_values)\n",
    "    population.sort(key=lambda x: x.MSE,reverse=True)\n",
    "    population = population[0:size_of_population]\n",
    "\n",
    "for people in population:\n",
    "    print(str(printTree(people)) + \"    MSE : \"+str(people.MSE))"
   ]
  }
 ],
 "metadata": {
  "kernelspec": {
   "display_name": "base",
   "language": "python",
   "name": "python3"
  },
  "language_info": {
   "codemirror_mode": {
    "name": "ipython",
    "version": 3
   },
   "file_extension": ".py",
   "mimetype": "text/x-python",
   "name": "python",
   "nbconvert_exporter": "python",
   "pygments_lexer": "ipython3",
   "version": "3.9.12"
  },
  "orig_nbformat": 4
 },
 "nbformat": 4,
 "nbformat_minor": 2
}
